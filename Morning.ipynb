{
 "cells": [
  {
   "cell_type": "raw",
   "id": "e2320d05-a9e2-43e1-ab9f-5afdad2707ef",
   "metadata": {},
   "source": [
    "---\n",
    "title: \"My document\"\n",
    "execute:\n",
    "  echo: false\n",
    "  warning: false\n",
    "---"
   ]
  },
  {
   "cell_type": "raw",
   "id": "eb59a5ae-bcc2-477e-9758-b891e487e9cb",
   "metadata": {},
   "source": [
    "Write a plain-text script for a solo speaker in the style of a broadcast. The script should be engaging and suitable for listening during a commute to work. Do not include any formatting like markdown, music cues, or sound effects—only plain text narration."
   ]
  },
  {
   "cell_type": "code",
   "execution_count": 1,
   "id": "26aeaa6d-8a32-4e88-bb7c-b409a6607444",
   "metadata": {},
   "outputs": [],
   "source": [
    "import yfinance as yf"
   ]
  },
  {
   "cell_type": "code",
   "execution_count": 2,
   "id": "4a4e5240-7e14-47cd-8bc4-2ba8787297e9",
   "metadata": {},
   "outputs": [
    {
     "name": "stdout",
     "output_type": "stream",
     "text": [
      "Price of GOOG, previous: 199.6300048828125, current 201.5803985595703, change: 0.9770042724302597%\n"
     ]
    },
    {
     "name": "stdout",
     "output_type": "stream",
     "text": [
      "Price of AAPL, previous: 222.63999938964844, current 222.74000549316406, change: 0.04491830030084465%\n",
      "Price of META, previous: 616.4600219726562, current 623.364990234375, change: 1.1200999279114665%\n",
      "Price of TSLA, previous: 424.07000732421875, current 417.8399963378906, change: -1.4690996483429752%\n"
     ]
    },
    {
     "name": "stdout",
     "output_type": "stream",
     "text": [
      "Price of QQQ, previous: 524.7999877929688, current 532.0700073242188, change: 1.385293388024622%\n"
     ]
    }
   ],
   "source": [
    "for ticker in ['GOOG', 'AAPL', 'META', 'TSLA', 'QQQ']:\n",
    "    ticker_yahoo = yf.Ticker(ticker)\n",
    "    history = ticker_yahoo.history(period = \"2d\")\n",
    "    current = history.iloc[-1]['Close']\n",
    "    previous = history.iloc[-2]['Close']\n",
    "    print(f\"Price of {ticker}, previous: {previous}, current {current}, change: {(current / previous - 1) * 100}%\")"
   ]
  },
  {
   "cell_type": "code",
   "execution_count": 3,
   "id": "6af6e726-2457-4c9c-bdfd-abeec4e12688",
   "metadata": {},
   "outputs": [
    {
     "name": "stdout",
     "output_type": "stream",
     "text": [
      "Weather for San Jose\n",
      "Coordinates 37.3475456237793°N -121.8808364868164°E\n",
      "Elevation 33.0 m asl\n",
      "Timezone b'America/Los_Angeles' b'GMT-8'\n",
      "Timezone difference to GMT+0 -28800 s\n",
      "Current time 1737557100\n",
      "Current temperature 1.2284998893737793\n",
      "Current relative_humidity 63.0\n"
     ]
    },
    {
     "name": "stdout",
     "output_type": "stream",
     "text": [
      "                       date weather_code\n",
      "0 2025-01-22 08:00:00+00:00        Sunny\n",
      "1 2025-01-23 08:00:00+00:00        Sunny\n",
      "2 2025-01-24 08:00:00+00:00       Cloudy\n",
      "3 2025-01-25 08:00:00+00:00       Cloudy\n",
      "4 2025-01-26 08:00:00+00:00       Cloudy\n",
      "5 2025-01-27 08:00:00+00:00        Sunny\n",
      "6 2025-01-28 08:00:00+00:00        Sunny\n"
     ]
    }
   ],
   "source": [
    "import openmeteo_requests\n",
    "import requests\n",
    "import requests_cache\n",
    "import pandas as pd\n",
    "from retry_requests import retry\n",
    "\n",
    "# Setup the Open-Meteo API client with cache and retry on error\n",
    "cache_session = requests_cache.CachedSession('.cache', expire_after = 3600)\n",
    "retry_session = retry(cache_session, retries = 5, backoff_factor = 0.2)\n",
    "openmeteo = openmeteo_requests.Client(session = retry_session)\n",
    "\n",
    "# Make sure all required weather variables are listed here\n",
    "# The order of variables in hourly or daily is important to assign them correctly below\n",
    "url = \"https://api.open-meteo.com/v1/forecast\"\n",
    "params = {\n",
    "\t\"latitude\": 37.3394,\n",
    "\t\"longitude\": -121.895,\n",
    "\t\"current\": [\"temperature_2m\", \"relative_humidity_2m\"],\n",
    "\t\"daily\": \"weather_code\",\n",
    "\t\"timezone\": \"America/Los_Angeles\"\n",
    "}\n",
    "responses = openmeteo.weather_api(url, params=params)\n",
    "\n",
    "# Process first location. Add a for-loop for multiple locations or weather models\n",
    "response = responses[0]\n",
    "print(\"Weather for San Jose\")\n",
    "print(f\"Coordinates {response.Latitude()}°N {response.Longitude()}°E\")\n",
    "print(f\"Elevation {response.Elevation()} m asl\")\n",
    "print(f\"Timezone {response.Timezone()} {response.TimezoneAbbreviation()}\")\n",
    "print(f\"Timezone difference to GMT+0 {response.UtcOffsetSeconds()} s\")\n",
    "\n",
    "\n",
    "# Current values. The order of variables needs to be the same as requested.\n",
    "current = response.Current()\n",
    "\n",
    "current_temperature_2m = current.Variables(0).Value()\n",
    "\n",
    "current_relative_humidity_2m = current.Variables(1).Value()\n",
    "\n",
    "print(f\"Current time {current.Time()}\")\n",
    "\n",
    "print(f\"Current temperature {current_temperature_2m}\")\n",
    "print(f\"Current relative_humidity {current_relative_humidity_2m}\")\n",
    "\n",
    "# Process daily data. The order of variables needs to be the same as requested.\n",
    "daily = response.Daily()\n",
    "daily_weather_code = daily.Variables(0).ValuesAsNumpy()\n",
    "\n",
    "daily_data = {\"date\": pd.date_range(\n",
    "\tstart = pd.to_datetime(daily.Time(), unit = \"s\", utc = True),\n",
    "\tend = pd.to_datetime(daily.TimeEnd(), unit = \"s\", utc = True),\n",
    "\tfreq = pd.Timedelta(seconds = daily.Interval()),\n",
    "\tinclusive = \"left\"\n",
    ")}\n",
    "\n",
    "weather_code_desc = requests.get(\"https://gist.githubusercontent.com/stellasphere/9490c195ed2b53c707087c8c2db4ec0c/raw/76b0cb0ef0bfd8a2ec988aa54e30ecd1b483495d/descriptions.json\").json()\n",
    "daily_data[\"weather_code\"] = [weather_code_desc[str(round(code))]['day']['description'] for code in daily_weather_code]\n",
    "daily_dataframe = pd.DataFrame(data = daily_data)\n",
    "print(daily_dataframe)"
   ]
  },
  {
   "cell_type": "code",
   "execution_count": 4,
   "id": "01b724b6-1b44-4176-bff9-5355f6a578c2",
   "metadata": {},
   "outputs": [],
   "source": []
  }
 ],
 "metadata": {
  "kernelspec": {
   "display_name": "Python 3 (ipykernel)",
   "language": "python",
   "name": "python3"
  },
  "language_info": {
   "codemirror_mode": {
    "name": "ipython",
    "version": 3
   },
   "file_extension": ".py",
   "mimetype": "text/x-python",
   "name": "python",
   "nbconvert_exporter": "python",
   "pygments_lexer": "ipython3",
   "version": "3.13.1"
  }
 },
 "nbformat": 4,
 "nbformat_minor": 5
}
