{
 "cells": [
  {
   "cell_type": "raw",
   "id": "e2320d05-a9e2-43e1-ab9f-5afdad2707ef",
   "metadata": {},
   "source": [
    "---\n",
    "execute:\n",
    "  echo: false\n",
    "  warning: false\n",
    "---"
   ]
  },
  {
   "cell_type": "raw",
   "id": "eb59a5ae-bcc2-477e-9758-b891e487e9cb",
   "metadata": {},
   "source": [
    "Write a plain-text script for a solo speaker in the style of a broadcast. The script should be engaging and suitable for listening during a commute to work. Do not include any formatting like markdown, music cues, or sound effects—only plain text narration. Just generate the  text that speaker will say, do not include any additional text like music desciption. Don't put items into a markdown list, instead compose it into a paragraph."
   ]
  },
  {
   "cell_type": "code",
   "execution_count": 1,
   "id": "26aeaa6d-8a32-4e88-bb7c-b409a6607444",
   "metadata": {},
   "outputs": [],
   "source": [
    "import yfinance as yf"
   ]
  },
  {
   "cell_type": "code",
   "execution_count": 2,
   "id": "4a4e5240-7e14-47cd-8bc4-2ba8787297e9",
   "metadata": {},
   "outputs": [
    {
     "name": "stdout",
     "output_type": "stream",
     "text": [
      "Price of GOOG, previous: 202.63, current 205.60, change: 1.47%\n"
     ]
    },
    {
     "name": "stdout",
     "output_type": "stream",
     "text": [
      "Price of AAPL, previous: 237.59, current 236.00, change: -0.67%\n",
      "Price of META, previous: 687.00, current 689.18, change: 0.32%\n",
      "Price of TSLA, previous: 400.28, current 404.60, change: 1.08%\n"
     ]
    },
    {
     "name": "stdout",
     "output_type": "stream",
     "text": [
      "Price of QQQ, previous: 523.05, current 522.29, change: -0.15%\n"
     ]
    }
   ],
   "source": [
    "for ticker in [\"GOOG\", \"AAPL\", \"META\", \"TSLA\", \"QQQ\"]:\n",
    "    ticker_yahoo = yf.Ticker(ticker)\n",
    "    history = ticker_yahoo.history(period=\"2d\")\n",
    "    current = history.iloc[-1][\"Close\"]\n",
    "    previous = history.iloc[-2][\"Close\"]\n",
    "    print(\n",
    "        f\"Price of {ticker}, previous: {previous:.2f}, current {current:.2f}, change: {(current / previous - 1) * 100:.2f}%\"\n",
    "    )"
   ]
  },
  {
   "cell_type": "code",
   "execution_count": 3,
   "id": "6af6e726-2457-4c9c-bdfd-abeec4e12688",
   "metadata": {},
   "outputs": [
    {
     "name": "stdout",
     "output_type": "stream",
     "text": [
      "Weather for San Jose\n",
      "Current time 2025-02-02 07:30:09.172945\n",
      "Current temperature 12.928500175476074\n",
      "Current relative_humidity 85.0\n"
     ]
    },
    {
     "name": "stdout",
     "output_type": "stream",
     "text": [
      "Weather for next week, summarize it into a paragraph.\n",
      "Date: Sunday 2025-02-02 Weather: Cloudy\n",
      "Date: Monday 2025-02-03 Weather: Light Rain\n",
      "Date: Tuesday 2025-02-04 Weather: Showers\n",
      "Date: Wednesday 2025-02-05 Weather: Cloudy\n",
      "Date: Thursday 2025-02-06 Weather: Light Showers\n",
      "Date: Friday 2025-02-07 Weather: Light Drizzle\n",
      "Date: Saturday 2025-02-08 Weather: Mainly Sunny\n"
     ]
    }
   ],
   "source": [
    "import openmeteo_requests\n",
    "import requests\n",
    "import requests_cache\n",
    "import pandas as pd\n",
    "from datetime import datetime\n",
    "from retry_requests import retry\n",
    "\n",
    "# Setup the Open-Meteo API client with cache and retry on error\n",
    "cache_session = requests_cache.CachedSession(\".cache\", expire_after=3600)\n",
    "retry_session = retry(cache_session, retries=5, backoff_factor=0.2)\n",
    "openmeteo = openmeteo_requests.Client(session=retry_session)\n",
    "\n",
    "# Make sure all required weather variables are listed here\n",
    "# The order of variables in hourly or daily is important to assign them correctly below\n",
    "url = \"https://api.open-meteo.com/v1/forecast\"\n",
    "params = {\n",
    "    \"latitude\": 37.3394,\n",
    "    \"longitude\": -121.895,\n",
    "    \"current\": [\"temperature_2m\", \"relative_humidity_2m\"],\n",
    "    \"daily\": \"weather_code\",\n",
    "    \"timezone\": \"America/Los_Angeles\",\n",
    "}\n",
    "responses = openmeteo.weather_api(url, params=params)\n",
    "\n",
    "# Process first location. Add a for-loop for multiple locations or weather models\n",
    "response = responses[0]\n",
    "print(\"Weather for San Jose\")\n",
    "\n",
    "# Current values. The order of variables needs to be the same as requested.\n",
    "current = response.Current()\n",
    "current_temperature_2m = current.Variables(0).Value()\n",
    "current_relative_humidity_2m = current.Variables(1).Value()\n",
    "print(f\"Current time {datetime.now()}\")\n",
    "print(f\"Current temperature {current_temperature_2m}\")\n",
    "print(f\"Current relative_humidity {current_relative_humidity_2m}\")\n",
    "\n",
    "# Process daily data. The order of variables needs to be the same as requested.\n",
    "daily = response.Daily()\n",
    "daily_weather_code = daily.Variables(0).ValuesAsNumpy()\n",
    "\n",
    "dates = pd.date_range(\n",
    "        start=pd.to_datetime(daily.Time(), unit=\"s\", utc=True),\n",
    "        end=pd.to_datetime(daily.TimeEnd(), unit=\"s\", utc=True),\n",
    "        freq=pd.Timedelta(seconds=daily.Interval()),\n",
    "        inclusive=\"left\",\n",
    ")\n",
    "\n",
    "weather_code_desc = requests.get(\n",
    "    \"https://gist.githubusercontent.com/stellasphere/9490c195ed2b53c707087c8c2db4ec0c/raw/76b0cb0ef0bfd8a2ec988aa54e30ecd1b483495d/descriptions.json\"\n",
    ").json()\n",
    "print(\"Weather for next week, summarize it into a paragraph.\")\n",
    "for date, code in zip(dates, daily_weather_code):\n",
    "    weather = weather_code_desc[str(round(code))][\"day\"][\"description\"]\n",
    "    print(f\"Date: {date.strftime('%A %Y-%m-%d')} Weather: {weather}\")"
   ]
  }
 ],
 "metadata": {
  "kernelspec": {
   "display_name": "Python 3 (ipykernel)",
   "language": "python",
   "name": "python3"
  },
  "language_info": {
   "codemirror_mode": {
    "name": "ipython",
    "version": 3
   },
   "file_extension": ".py",
   "mimetype": "text/x-python",
   "name": "python",
   "nbconvert_exporter": "python",
   "pygments_lexer": "ipython3",
   "version": "3.13.1"
  }
 },
 "nbformat": 4,
 "nbformat_minor": 5
}
